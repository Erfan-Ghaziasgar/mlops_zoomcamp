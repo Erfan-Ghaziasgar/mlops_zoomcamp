{
 "cells": [
  {
   "cell_type": "code",
   "execution_count": 1,
   "id": "7a3664f1",
   "metadata": {},
   "outputs": [
    {
     "name": "stdout",
     "output_type": "stream",
     "text": [
      "X_train shape: (65946, 5702)\n",
      "y_train shape: (65946,)\n",
      "y_train sample: [11.01666667  6.76666667  6.33333333  5.81666667  5.96666667]\n",
      "X_train sample (dense):\n",
      "[[0.   0.   0.   ... 0.   0.   2.58]\n",
      " [0.   0.   0.   ... 0.   0.   1.81]\n",
      " [0.   0.   0.   ... 0.   0.   0.  ]\n",
      " [0.   0.   0.   ... 0.   0.   1.3 ]\n",
      " [0.   0.   0.   ... 0.   0.   1.1 ]]\n"
     ]
    }
   ],
   "source": [
    "import pickle\n",
    "\n",
    "# Load the pickle file\n",
    "with open(\"output/train.pkl\", \"rb\") as f_in:\n",
    "    X_train, y_train = pickle.load(f_in)\n",
    "\n",
    "# Show the shape of the features and target\n",
    "print(f\"X_train shape: {X_train.shape}\")\n",
    "print(f\"y_train shape: {y_train.shape}\")\n",
    "\n",
    "# Show the first 5 target values\n",
    "print(\"y_train sample:\", y_train[:5])\n",
    "\n",
    "# For sparse matrix, convert a small sample to dense for display\n",
    "print(\"X_train sample (dense):\")\n",
    "print(X_train[:5].toarray())  # Only safe for small samples!\n"
   ]
  },
  {
   "cell_type": "code",
   "execution_count": null,
   "id": "ca0d46e3",
   "metadata": {},
   "outputs": [],
   "source": []
  }
 ],
 "metadata": {
  "kernelspec": {
   "display_name": ".venv",
   "language": "python",
   "name": "python3"
  },
  "language_info": {
   "codemirror_mode": {
    "name": "ipython",
    "version": 3
   },
   "file_extension": ".py",
   "mimetype": "text/x-python",
   "name": "python",
   "nbconvert_exporter": "python",
   "pygments_lexer": "ipython3",
   "version": "3.12.3"
  }
 },
 "nbformat": 4,
 "nbformat_minor": 5
}
